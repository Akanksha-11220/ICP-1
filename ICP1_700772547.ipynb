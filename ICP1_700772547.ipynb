{
  "nbformat": 4,
  "nbformat_minor": 0,
  "metadata": {
    "colab": {
      "provenance": [],
      "authorship_tag": "ABX9TyOJPoY8T+wy5MDCbhSrteAb",
      "include_colab_link": true
    },
    "kernelspec": {
      "name": "python3",
      "display_name": "Python 3"
    },
    "language_info": {
      "name": "python"
    }
  },
  "cells": [
    {
      "cell_type": "markdown",
      "metadata": {
        "id": "view-in-github",
        "colab_type": "text"
      },
      "source": [
        "<a href=\"https://colab.research.google.com/github/Akanksha-11220/ICP-1/blob/main/ICP1_700772547.ipynb\" target=\"_parent\"><img src=\"https://colab.research.google.com/assets/colab-badge.svg\" alt=\"Open In Colab\"/></a>"
      ]
    },
    {
      "cell_type": "code",
      "execution_count": 1,
      "metadata": {
        "colab": {
          "base_uri": "https://localhost:8080/"
        },
        "id": "OzQUG8jub2Mv",
        "outputId": "57a2590c-1089-4d6e-d166-967509afbd55"
      },
      "outputs": [
        {
          "output_type": "stream",
          "name": "stdout",
          "text": [
            "Mounted at /content/drive\n"
          ]
        }
      ],
      "source": [
        "# Mount Google Drive to access files\n",
        "from google.colab import drive\n",
        "drive.mount('/content/drive')\n"
      ]
    },
    {
      "cell_type": "code",
      "source": [
        "#write a python program for the following\n",
        "string_input = input(\"Enter a string: \") # Take input from the user\n",
        "char_list = list(string_input) # Convert input string to list of characters\n",
        "\n",
        "if len(char_list) >= 3: # Delete two characters (for example, index 1 and index 2)\n",
        "    del char_list[1]\n",
        "    del char_list[2]\n",
        "\n",
        "\n",
        "char_list.reverse() # Reverse the resulting list\n",
        "result = ''.join(char_list) # Join the list back to a string and print\n",
        "print(\"Result after deletion and reversal:\", result)\n"
      ],
      "metadata": {
        "colab": {
          "base_uri": "https://localhost:8080/"
        },
        "id": "KIkVaXJEcdy5",
        "outputId": "8cbb5d86-df48-47af-a13d-24baa6257379"
      },
      "execution_count": 14,
      "outputs": [
        {
          "output_type": "stream",
          "name": "stdout",
          "text": [
            "Enter a string: python\n",
            "Result after deletion and reversal: notp\n"
          ]
        }
      ]
    },
    {
      "cell_type": "code",
      "source": [
        "#Replace ‘python’ with ‘pythons’\n",
        "sentence = input(\"Enter a sentence: \")\n",
        "\n",
        "new_sentence = sentence.replace('python', 'pythons') # Use the replace() function to replace 'python' with 'pythons'\n",
        "print(\"Updated sentence:\", new_sentence) # Print the updated sentence\n"
      ],
      "metadata": {
        "colab": {
          "base_uri": "https://localhost:8080/"
        },
        "id": "Z-0IS6saew9X",
        "outputId": "8d2f971b-e80a-4050-832e-4ce25f794ab5"
      },
      "execution_count": 15,
      "outputs": [
        {
          "output_type": "stream",
          "name": "stdout",
          "text": [
            "Enter a sentence: I love playing with python\n",
            "Updated sentence: I love playing with pythons\n"
          ]
        }
      ]
    },
    {
      "cell_type": "code",
      "source": [
        "# Program to print letter grade based on input class score\n",
        "\n",
        "score = float(input(\"Enter your class score: \")) # Take score input from user\n",
        "\n",
        "if score >= 90: # Use if-elif-else conditions to determine grade\n",
        "    grade = 'A'\n",
        "elif score >= 80:\n",
        "    grade = 'B'\n",
        "elif score >= 70:\n",
        "    grade = 'C'\n",
        "elif score >= 60:\n",
        "    grade = 'D'\n",
        "else:\n",
        "    grade = 'F'\n",
        "\n",
        "print(\"Your grade is:\", grade) # Print the letter grade\n"
      ],
      "metadata": {
        "colab": {
          "base_uri": "https://localhost:8080/"
        },
        "id": "qudYinOofZDV",
        "outputId": "6ab6f36e-1465-4004-91d7-f158438a738f"
      },
      "execution_count": 16,
      "outputs": [
        {
          "output_type": "stream",
          "name": "stdout",
          "text": [
            "Enter your class score: 92\n",
            "Your grade is: A\n"
          ]
        }
      ]
    },
    {
      "cell_type": "code",
      "source": [
        "#Program: Append Type of Each Element\n",
        "x = [23, 'Python', 23.98]\n",
        "\n",
        "types = [type(item) for item in x] # Create a new list that holds the type of each element in x\n",
        "\n",
        "print(x)\n",
        "\n",
        "print(types)\n"
      ],
      "metadata": {
        "colab": {
          "base_uri": "https://localhost:8080/"
        },
        "id": "hA-DayJHftEu",
        "outputId": "7b5f2fe1-995c-4975-cc92-db361c852462"
      },
      "execution_count": 17,
      "outputs": [
        {
          "output_type": "stream",
          "name": "stdout",
          "text": [
            "[23, 'Python', 23.98]\n",
            "[<class 'int'>, <class 'str'>, <class 'float'>]\n"
          ]
        }
      ]
    },
    {
      "cell_type": "code",
      "source": [
        "#Program: Sets Operations\n",
        "# Given data\n",
        "IT_companies = {'Facebook', 'Google', 'Microsoft', 'Apple', 'IBM', 'Oracle', 'Amazon'}\n",
        "A = {19, 22, 24, 20, 25, 26}\n",
        "B = {19, 22, 20, 25, 26, 24, 28, 27}\n",
        "age = [22, 19, 24, 25, 26, 24, 25, 24]\n",
        "\n",
        "\n",
        "print(\"Length of IT_companies:\", len(IT_companies)) # Find the length of the set IT_companies\n",
        "\n",
        "IT_companies.add('Twitter') # Add 'Twitter' to IT_companies\n",
        "print(\"After adding Twitter:\", IT_companies)\n",
        "\n",
        "IT_companies.update(['Tesla', 'Intel', 'HP']) #  Insert multiple IT companies at once\n",
        "print(\"After adding multiple companies:\", IT_companies)\n",
        "\n",
        "\n",
        "IT_companies.remove('Intel') # Remove one company\n",
        "print(\"After removing 'Intel':\", IT_companies)\n",
        "\n",
        "#Difference between remove and discard\n",
        "# remove() throws an error if the item is not found\n",
        "# discard() does NOT throw an error if the item is not found\n",
        "IT_companies.discard('NonExistingCompany')  # No error\n",
        "# IT_companies.remove('NonExistingCompany')  # This would cause an error\n",
        "\n",
        "print(\"Explanation: remove() raises an error if item not found; discard() does not.\")\n",
        "\n",
        "#Join A and B (union)\n",
        "print(\"A union B:\", A.union(B))\n",
        "\n",
        "# A intersection B\n",
        "print(\"A intersection B:\", A.intersection(B))\n",
        "\n",
        "#Is A subset of B\n",
        "print(\"Is A subset of B:\", A.issubset(B))\n",
        "\n",
        "#Are A and B disjoint sets\n",
        "print(\"Are A and B disjoint sets:\", A.isdisjoint(B))\n",
        "\n",
        "#Join A with B and B with A\n",
        "print(\"Join A with B:\", A.union(B))\n",
        "print(\"Join B with A:\", B.union(A))\n",
        "\n",
        "#Symmetric difference between A and B\n",
        "print(\"Symmetric difference:\", A.symmetric_difference(B))\n",
        "\n",
        "# Delete the sets completely\n",
        "del A\n",
        "del B\n",
        "\n",
        "\n",
        "age_set = set(age) # Convert ages to a set and compare length with list\n",
        "print(\"Length of age list:\", len(age))\n",
        "print(\"Length of age set:\", len(age_set))\n"
      ],
      "metadata": {
        "colab": {
          "base_uri": "https://localhost:8080/"
        },
        "id": "NW7LAurdf9bi",
        "outputId": "3dd390fe-1534-4617-d86a-4f16e97c49c3"
      },
      "execution_count": 18,
      "outputs": [
        {
          "output_type": "stream",
          "name": "stdout",
          "text": [
            "Length of IT_companies: 7\n",
            "After adding Twitter: {'Google', 'Amazon', 'Twitter', 'Microsoft', 'IBM', 'Facebook', 'Apple', 'Oracle'}\n",
            "After adding multiple companies: {'Google', 'Amazon', 'Intel', 'HP', 'IBM', 'Facebook', 'Apple', 'Oracle', 'Microsoft', 'Tesla', 'Twitter'}\n",
            "After removing 'Intel': {'Google', 'Amazon', 'HP', 'IBM', 'Facebook', 'Apple', 'Oracle', 'Microsoft', 'Tesla', 'Twitter'}\n",
            "Explanation: remove() raises an error if item not found; discard() does not.\n",
            "A union B: {19, 20, 22, 24, 25, 26, 27, 28}\n",
            "A intersection B: {19, 20, 22, 24, 25, 26}\n",
            "Is A subset of B: True\n",
            "Are A and B disjoint sets: False\n",
            "Join A with B: {19, 20, 22, 24, 25, 26, 27, 28}\n",
            "Join B with A: {19, 20, 22, 24, 25, 26, 27, 28}\n",
            "Symmetric difference: {27, 28}\n",
            "Length of age list: 8\n",
            "Length of age set: 5\n"
          ]
        }
      ]
    }
  ]
}